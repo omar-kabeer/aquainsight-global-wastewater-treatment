{
 "cells": [
  {
   "cell_type": "markdown",
   "id": "8c1bcd0e",
   "metadata": {},
   "source": [
    "<h2><center> AquaInsight: Exploring Global Wastewater Treatment Patterns</h2></center>\n",
    "<figure>\n",
    "<center><img src =\"https://th.bing.com/th/id/OIP.wuNPTx42LyVnFMqRofDVPQHaGB?pid=ImgDet&rs=1\" width = \"750\" height = '500' alt=\"unsplash.com\"/>"
   ]
  },
  {
   "cell_type": "markdown",
   "id": "348f1af0",
   "metadata": {},
   "source": [
    "## Author: Umar Kabir\n",
    "\n",
    "Date: [July, 2023]"
   ]
  },
  {
   "cell_type": "markdown",
   "id": "2ad33f76",
   "metadata": {},
   "source": [
    "<a id='table-of-contents'></a>\n",
    "# Table of Contents\n",
    "\n",
    "1. [Introduction](#introduction)\n",
    "    - Motivation\n",
    "    - Problem Statement\n",
    "    - Objective\n",
    "    - Data Source\n",
    "    - Importing Dependencies  \n",
    "\n",
    "\n",
    "2. [Data](#2-data)\n",
    "    - Data Loading\n",
    "    - Dataset Overview\n",
    "\n",
    "\n",
    "3. [Exploratory Data Analysis](#exploratory-data-analysis)\n",
    "    - Descriptive Statistics\n",
    "    - Data Visualization\n",
    "    - Correlation Analysis\n",
    "    - Outlier Detection\n",
    "\n",
    "\n",
    "4. [Data Preparation](#data-preparation)\n",
    "    - Data Cleaning\n",
    "    - Handling Missing Values\n",
    "    - Handling Imbalanced Classes\n",
    "    - Feature Selection\n",
    "    - Feature Engineering\n",
    "    - Data Transformation\n",
    "    - Data Splitting\n",
    "\n",
    "\n",
    "5. [Model Development](#model-development)\n",
    "    - Baseline Model\n",
    "    - Model Selection\n",
    "    - Model Training\n",
    "    - Hyperparameter Tuning\n",
    "\n",
    "\n",
    "6. [Model Evaluation](#model-evaluation)\n",
    "    - Performance Metrics\n",
    "    - Confusion Matrix\n",
    "    - ROC Curve\n",
    "    - Precision-Recall Curve\n",
    "    - Cross-Validation\n",
    "    - Bias-Variance Tradeoff\n",
    "\n",
    "\n",
    "7. [Model Interpretation](#model-interpretation)\n",
    "    - Feature Importance\n",
    "    - Model Explanation Techniques\n",
    "    - Business Impact Analysis\n",
    "\n",
    "\n",
    "8. [Conclusion](#conclusion)\n",
    "    - Summary of Findings\n",
    "    - Recommendations\n",
    "    - Limitations\n",
    "    - Future Work\n",
    "    - Final Thoughts\n",
    "\n",
    "\n",
    "9. [References](#references)"
   ]
  },
  {
   "cell_type": "markdown",
   "id": "cb7bc0f0",
   "metadata": {},
   "source": [
    "<a id='introduction'></a>\n",
    "<font size=\"+2\" color='#053c96'><b> Introduction</b></font>  \n",
    "[back to top](#table-of-contents)  "
   ]
  },
  {
   "cell_type": "markdown",
   "id": "007b4139",
   "metadata": {},
   "source": [
    "<font size=\"+0\" color='green'><b> Possible Target Variables</b></font>  \n"
   ]
  },
  {
   "cell_type": "markdown",
   "id": "c6bc715b",
   "metadata": {},
   "source": [
    "<font size=\"3\" color='cyan'><b> Choice of Target Variable: STATUS (Status of the WWTP)</b></font>  \n",
    "\n",
    "The target variable chosen for analysis is the \"STATUS\" column, which represents the status of the wastewater treatment plants (WWTPs). This variable provides valuable information about the current state or condition of each WWTP and can serve as an essential factor in various data analysis and modeling tasks.\n",
    "\n",
    "<font size=\"2\" color='cyan'><b> Importance of STATUS as the Target Variable:</b></font>  \n",
    "\n",
    "1. **Decision-Making Insights:**\n",
    "   Understanding the status of WWTPs can provide crucial insights for decision-making processes. It allows stakeholders, policymakers, and environmentalists to identify operational WWTPs, those under construction, and those that are closed or decommissioned.\n",
    "\n",
    "2. **Environmental Assessment:**\n",
    "   The status of WWTPs is essential for environmental assessments, as it helps evaluate the impact of wastewater treatment on surrounding ecosystems and water bodies. It enables the analysis of active and non-operational WWTPs and their associated waste discharges.\n",
    "\n",
    "3. **Maintenance and Upgrades:**\n",
    "   Analyzing the status of WWTPs aids in identifying those under construction, needing maintenance, or requiring upgrades. This information is valuable for optimizing resources and ensuring the efficient functioning of WWTPs.\n",
    "\n",
    "4. **Risk Analysis:**\n",
    "   Knowing the status of WWTPs helps assess the potential risks associated with untreated or inadequately treated wastewater discharge. Non-operational or closed WWTPs may pose environmental risks and warrant further investigation.\n",
    "\n",
    "5. **Modeling for Future Projections:**\n",
    "   The status of WWTPs serves as a target variable for predictive modeling, helping to forecast future changes in the WWTP landscape and predict the emergence of new operational WWTPs or the decommissioning of existing ones.\n",
    "\n",
    "6. **Environmental Policy Evaluation:**\n",
    "   Policymakers can use the status of WWTPs to evaluate the effectiveness of environmental policies and regulations. It enables the assessment of policy impact on the number and status of operational WWTPs.\n",
    "\n",
    "<font size=\"2\" color='cyan'><b> Analysis and Modeling Opportunities:</b></font>  \n",
    "\n",
    "With \"STATUS\" as the target variable, several data analysis and modeling opportunities arise:\n",
    "\n",
    "1. **Classification Models:**\n",
    "   The status categories (Operational, Under Construction, Closed, etc.) make it suitable for building classification models that predict the status of WWTPs based on other attributes in the dataset.\n",
    "\n",
    "2. **Impact Assessment:**\n",
    "   Analyzing the status of WWTPs in different regions or countries can help assess the impact of environmental policies and infrastructure development efforts.\n",
    "\n",
    "3. **Performance Evaluation:**\n",
    "   The target variable can be used for evaluating the performance of WWTPs by comparing the status of plants with their respective wastewater discharge and treatment levels.\n",
    "\n",
    "4. **Spatial Analysis:**\n",
    "   Geospatial analysis can be performed to visualize the distribution of operational and non-operational WWTPs on a global scale, identifying areas with a higher concentration of active plants.\n",
    "\n",
    "In conclusion, selecting the \"STATUS\" column as the target variable provides a rich foundation for data analysis and modeling tasks related to wastewater treatment plants. It allows for valuable insights, impact assessment, and predictive modeling to improve wastewater management and environmental sustainability worldwide.\n"
   ]
  },
  {
   "cell_type": "markdown",
   "id": "923f8ab1",
   "metadata": {},
   "source": [
    "<font size=\"3\" color='cyan'><b> Choice of Target Variable: WASTE_DIS (Treated Wastewater Discharged)</b></font>  \n",
    "\n",
    "The target variable chosen for analysis is the \"WASTE_DIS\" column, which represents the amount of treated wastewater discharged by each wastewater treatment plant (WWTP) daily. This variable provides crucial information about the volume of treated wastewater released into the environment, making it a significant factor in various data analysis and modeling tasks.\n",
    "\n",
    "<font size=\"2\" color='cyan'><b> Importance of WASTE_DIS as the Target Variable:</b></font>  \n",
    "\n",
    "1. **Environmental Impact Assessment:**\n",
    "   The \"WASTE_DIS\" column plays a vital role in assessing the environmental impact of wastewater treatment plants. It allows us to quantify the volume of treated wastewater discharged into rivers, lakes, or oceans, helping to evaluate its potential effect on aquatic ecosystems and water quality.\n",
    "\n",
    "2. **Resource Management and Planning:**\n",
    "   Understanding the amount of treated wastewater discharged is essential for resource management and urban planning. Policymakers can use this information to optimize water usage, allocate resources, and plan for future wastewater treatment capacity.\n",
    "\n",
    "3. **Sustainability Evaluation:**\n",
    "   The volume of treated wastewater discharged reflects the efficiency and capacity of WWTPs. By analyzing this variable, we can evaluate the sustainability of wastewater treatment practices and identify areas for improvement.\n",
    "\n",
    "4. **Health and Sanitation Assessment:**\n",
    "   Treated wastewater discharge affects public health and sanitation. Analyzing \"WASTE_DIS\" helps monitor compliance with environmental regulations and assess potential health risks related to water quality.\n",
    "\n",
    "<font size=\"2\" color='cyan'><b> Analysis and Modeling Opportunities:</b></font>  \n",
    "\n",
    "With \"WASTE_DIS\" as the target variable, several data analysis and modeling opportunities arise:\n",
    "\n",
    "1. **Regression Models:**\n",
    "   The continuous nature of \"WASTE_DIS\" makes it suitable for building regression models to predict the volume of treated wastewater discharged based on other attributes in the dataset.\n",
    "\n",
    "2. **Environmental Impact Prediction:**\n",
    "   Using \"WASTE_DIS\" in predictive models, we can forecast the potential environmental impact of wastewater treatment plants, identifying areas with high waste discharge and planning for better environmental conservation.\n",
    "\n",
    "3. **Trend Analysis:**\n",
    "   Analyzing the trends in \"WASTE_DIS\" over time or across different regions can provide insights into the changing patterns of wastewater treatment and discharge, aiding in policy evaluation and decision-making.\n",
    "\n",
    "4. **Resource Optimization:**\n",
    "   By understanding the factors influencing \"WASTE_DIS,\" we can optimize resources and design strategies to minimize waste generation and improve wastewater treatment efficiency.\n",
    "\n",
    "In conclusion, selecting the \"WASTE_DIS\" column as the target variable provides valuable insights into the environmental impact of wastewater treatment and offers numerous opportunities for data analysis and modeling to enhance water resource management and sustainability efforts.\n"
   ]
  },
  {
   "cell_type": "markdown",
   "id": "2311a062",
   "metadata": {},
   "source": [
    "<font size=\"3\" color='cyan'><b> Choice of Target Variable: LEVEL (Level of Treatment of the WWTP)</b></font>  \n",
    "\n",
    "The target variable chosen for analysis is the \"LEVEL\" column, which represents the level of treatment provided by each wastewater treatment plant (WWTP). This variable categorizes WWTPs into different treatment levels: \"Primary,\" \"Secondary,\" or \"Advanced.\" Analyzing this variable offers valuable insights into the sophistication and efficiency of wastewater treatment processes.  \n",
    "\n",
    "<font size=\"2\" color='cyan'><b> Importance of LEVEL as the Target Variable:</b></font>  \n",
    "\n",
    "1. **Treatment Process Evaluation:**\n",
    "   The \"LEVEL\" column allows us to assess the extent to which wastewater is treated at each WWTP. It provides information on whether the plant primarily removes physical solids (\"Primary\"), goes through biological treatment (\"Secondary\"), or implements more advanced treatment techniques (\"Advanced\").\n",
    "\n",
    "2. **Environmental Impact Assessment:**\n",
    "   Different treatment levels have varying effects on the quality of treated wastewater discharged into the environment. Understanding the \"LEVEL\" helps evaluate the potential environmental impact of WWTPs and their contributions to water quality.\n",
    "\n",
    "3. **Water Quality Monitoring:**\n",
    "   The level of treatment directly affects the quality of treated wastewater. By analyzing \"LEVEL,\" we can monitor the effectiveness of different treatment methods in improving water quality and compliance with environmental standards.\n",
    "\n",
    "4. **Policy and Regulatory Compliance:**\n",
    "   Environmental regulations often set specific treatment requirements for WWTPs. Analyzing the \"LEVEL\" variable allows policymakers to evaluate whether WWTPs meet the prescribed treatment standards.\n",
    "\n",
    "<font size=\"2\" color='cyan'><b> Analysis and Modeling Opportunities:</b></font>  \n",
    "\n",
    "With \"LEVEL\" as the target variable, several data analysis and modeling opportunities arise:\n",
    "\n",
    "1. **Classification Models:**\n",
    "   The categorical nature of the \"LEVEL\" variable makes it suitable for building classification models. We can predict the treatment level of WWTPs based on other attributes in the dataset.\n",
    "\n",
    "2. **Environmental Impact Assessment:**\n",
    "   Using \"LEVEL\" in predictive models, we can assess the potential environmental impact of different treatment levels, identifying areas where more advanced treatment is needed.\n",
    "\n",
    "3. **Treatment Efficiency Analysis:**\n",
    "   Analyzing \"LEVEL\" helps compare the efficiency of different treatment methods and identify areas for improving wastewater treatment processes.\n",
    "\n",
    "4. **Optimization of Treatment Resources:**\n",
    "   Understanding the factors influencing the \"LEVEL\" of treatment can help optimize resources and allocate them effectively to achieve desired treatment outcomes.\n",
    "\n",
    "In conclusion, selecting the \"LEVEL\" column as the target variable offers valuable insights into wastewater treatment processes and their environmental impact. The categorical nature of the variable provides opportunities for classification models and facilitates the evaluation and improvement of wastewater treatment practices for better water quality and environmental sustainability.\n"
   ]
  },
  {
   "cell_type": "markdown",
   "id": "3a588643",
   "metadata": {},
   "source": [
    "<font size=\"3\" color='cyan'><b> Choice of Target Variable: POP_SERVED (Population Served by the WWTP)</b></font>  \n",
    "\n",
    "The target variable chosen for analysis is the \"POP_SERVED\" column, which represents the population served by each wastewater treatment plant (WWTP). This variable provides crucial information about the number of people benefiting from wastewater treatment services and is a significant factor in various data analysis and modeling tasks.\n",
    "\n",
    "<font size=\"2\" color='cyan'><b> Importance of POP_SERVED as the Target Variable:</b></font>  \n",
    "\n",
    "1. **Public Health and Sanitation:**\n",
    "   The \"POP_SERVED\" column is essential for assessing public health and sanitation. It helps quantify the number of people who have access to treated wastewater, reducing the potential risks of waterborne diseases.\n",
    "\n",
    "2. **Urban Planning and Infrastructure Development:**\n",
    "   Understanding the population served by WWTPs is vital for urban planning and infrastructure development. It guides decision-makers in estimating future wastewater treatment needs and optimizing resource allocation.\n",
    "\n",
    "3. **Resource Management:**\n",
    "   Analyzing \"POP_SERVED\" allows efficient resource management, ensuring that WWTPs have the capacity to handle the wastewater generated by the population they serve.\n",
    "\n",
    "4. **Sustainability Evaluation:**\n",
    "   The \"POP_SERVED\" variable reflects the impact of wastewater treatment on the surrounding communities. It is essential for evaluating the sustainability and effectiveness of wastewater management practices.\n",
    "\n",
    "<font size=\"2\" color='cyan'><b> Analysis and Modeling Opportunities:</b></font>  \n",
    "\n",
    "With \"POP_SERVED\" as the target variable, several data analysis and modeling opportunities arise:\n",
    "\n",
    "1. **Regression Models:**\n",
    "   The continuous nature of \"POP_SERVED\" makes it suitable for building regression models to predict the population served by a WWTP based on other attributes in the dataset.\n",
    "\n",
    "2. **Urban Planning Projections:**\n",
    "   Using \"POP_SERVED\" in predictive models, we can project future population growth and estimate the corresponding increase in wastewater treatment demand.\n",
    "\n",
    "3. **Health Impact Assessment:**\n",
    "   Analyzing \"POP_SERVED\" allows us to assess the potential health impact of wastewater treatment on the population and identify areas where wastewater management needs improvement.\n",
    "\n",
    "4. **Infrastructure Optimization:**\n",
    "   By understanding the factors influencing \"POP_SERVED,\" we can optimize the capacity and design of WWTPs to meet the growing needs of the population.\n",
    "\n",
    "In conclusion, selecting the \"POP_SERVED\" column as the target variable provides valuable insights into public health, urban planning, and resource management related to wastewater treatment. It offers numerous opportunities for data analysis and modeling to enhance wastewater infrastructure, public health, and environmental sustainability efforts.\n"
   ]
  },
  {
   "cell_type": "markdown",
   "id": "5ffa45a2",
   "metadata": {},
   "source": [
    "<font size=\"3\" color='cyan'><b> Choice of Target Variable: QUAL_POP (Quality Indicator for Population Served)</b></font>  \n",
    "\n",
    "The target variable chosen for analysis is the \"QUAL_POP\" column, which represents the quality indicator related to the attribute \"population served\" by each wastewater treatment plant (WWTP). This variable provides valuable information about the reliability and accuracy of reported population data and is a significant factor in various data analysis and modeling tasks.\n",
    "\n",
    "<font size=\"2\" color='cyan'><b> Importance of QUAL_POP as the Target Variable:</b></font>  \n",
    "\n",
    "1. **Data Reliability Assessment:**\n",
    "   The \"QUAL_POP\" column allows us to assess the reliability of reported population data for each WWTP. It helps identify cases where population data is directly reported, estimated with wastewater discharge information, or estimated without wastewater discharge information.\n",
    "\n",
    "2. **Data Quality Improvement:**\n",
    "   Analyzing \"QUAL_POP\" helps in identifying areas where data quality improvement is needed. It allows for better data collection and reporting practices to enhance the accuracy of population served estimates.\n",
    "\n",
    "3. **Policy and Decision-Making:**\n",
    "   Policymakers and stakeholders rely on accurate population data to make informed decisions about wastewater treatment infrastructure and resource allocation. The \"QUAL_POP\" variable ensures that such decisions are based on reliable information.\n",
    "\n",
    "<font size=\"2\" color='cyan'><b> Analysis and Modeling Opportunities:</b></font>  \n",
    "\n",
    "With \"QUAL_POP\" as the target variable, several data analysis and modeling opportunities arise:\n",
    "\n",
    "1. **Classification Models:**\n",
    "   The categorical nature of the \"QUAL_POP\" variable makes it suitable for building classification models to predict the quality of population data reported by each WWTP based on other attributes in the dataset.\n",
    "\n",
    "2. **Data Quality Assessment:**\n",
    "   Using \"QUAL_POP\" in predictive models, we can assess the factors influencing the accuracy of reported population data and identify patterns for improving data quality.\n",
    "\n",
    "3. **Policy Evaluation:**\n",
    "   Analyzing \"QUAL_POP\" helps policymakers and authorities evaluate the effectiveness of data reporting policies and their impact on data quality.\n",
    "\n",
    "4. **Resource Allocation Optimization:**\n",
    "   By understanding the factors affecting \"QUAL_POP,\" we can optimize resource allocation for data collection and reporting efforts, improving the reliability of population served estimates.\n",
    "\n",
    "In conclusion, selecting the \"QUAL_POP\" column as the target variable provides valuable insights into the reliability and accuracy of population data reported by WWTPs. It offers numerous opportunities for data analysis and modeling to enhance data quality and decision-making in wastewater treatment infrastructure planning and resource management.\n"
   ]
  },
  {
   "cell_type": "markdown",
   "id": "b95dbff8",
   "metadata": {},
   "source": [
    "<font size=\"+0\" color='green'><b> Motivation</b></font>  \n"
   ]
  },
  {
   "cell_type": "markdown",
   "id": "74cb2b87",
   "metadata": {},
   "source": [
    "<font size=\"+0\" color='green'><b> Problem Statement</b></font>  \n",
    "\n"
   ]
  },
  {
   "cell_type": "markdown",
   "id": "da06c58d",
   "metadata": {},
   "source": [
    "<font size=\"+0\" color='green'><b> Objectives</b></font>  \n"
   ]
  },
  {
   "cell_type": "markdown",
   "id": "46686294",
   "metadata": {},
   "source": [
    "<font size=\"+0\" color='green'><b> Data Source</b></font>  \n"
   ]
  },
  {
   "cell_type": "markdown",
   "id": "bafda93c",
   "metadata": {},
   "source": [
    "<font size=\"+0\" color='green'><b> Importing Dependencies</b></font>  "
   ]
  },
  {
   "cell_type": "code",
   "execution_count": 1,
   "id": "1ca49672",
   "metadata": {},
   "outputs": [],
   "source": [
    "import sys\n",
    "# Insert the parent path relative to this notebook so we can import from the src folder.\n",
    "sys.path.insert(0, \"..\")\n",
    "\n",
    "from src.dependencies import *"
   ]
  },
  {
   "cell_type": "markdown",
   "id": "7193821a",
   "metadata": {},
   "source": [
    "<a id='#data'></a>\n",
    "<font size=\"+2\" color='#053c96'><b> Data</b></font>  \n",
    "[back to top](#table-of-contents)"
   ]
  },
  {
   "cell_type": "markdown",
   "id": "5adb7564",
   "metadata": {},
   "source": [
    "<font size=\"+0\" color='green'><b> Data Loading</b></font>  "
   ]
  },
  {
   "cell_type": "code",
   "execution_count": 10,
   "id": "ded840cf",
   "metadata": {},
   "outputs": [],
   "source": [
    "rivers = pd.read_csv('../data/river_data.csv')\n",
    "df = pd.read_csv('../data/HydroWASTE_v10.csv', encoding='ISO-8859-1')"
   ]
  },
  {
   "cell_type": "markdown",
   "id": "00d03d0b",
   "metadata": {},
   "source": [
    "<font size=\"+0\" color='green'><b> Data Overview</b></font>  "
   ]
  },
  {
   "cell_type": "code",
   "execution_count": 11,
   "id": "5579cc6d",
   "metadata": {},
   "outputs": [
    {
     "data": {
      "text/plain": [
       "(8477883, 16)"
      ]
     },
     "execution_count": 11,
     "metadata": {},
     "output_type": "execute_result"
    }
   ],
   "source": [
    "rivers.shape"
   ]
  },
  {
   "cell_type": "code",
   "execution_count": 3,
   "id": "268bce94",
   "metadata": {},
   "outputs": [
    {
     "data": {
      "text/plain": [
       "(58502, 25)"
      ]
     },
     "execution_count": 3,
     "metadata": {},
     "output_type": "execute_result"
    }
   ],
   "source": [
    "df.shape"
   ]
  },
  {
   "cell_type": "code",
   "execution_count": 12,
   "id": "bc37cbb0",
   "metadata": {},
   "outputs": [
    {
     "name": "stdout",
     "output_type": "stream",
     "text": [
      "\n",
      "Data Info:\n",
      "<class 'pandas.core.frame.DataFrame'>\n",
      "RangeIndex: 8477883 entries, 0 to 8477882\n",
      "Data columns (total 16 columns):\n",
      " #   Column        Dtype  \n",
      "---  ------        -----  \n",
      " 0   OBJECTID      int64  \n",
      " 1   HYRIV_ID      int64  \n",
      " 2   NEXT_DOWN     int64  \n",
      " 3   MAIN_RIV      int64  \n",
      " 4   LENGTH_KM     float64\n",
      " 5   DIST_DN_KM    float64\n",
      " 6   DIST_UP_KM    float64\n",
      " 7   CATCH_SKM     float64\n",
      " 8   UPLAND_SKM    float64\n",
      " 9   ENDORHEIC     int64  \n",
      " 10  DIS_AV_CMS    float64\n",
      " 11  ORD_STRA      int64  \n",
      " 12  ORD_CLAS      int64  \n",
      " 13  ORD_FLOW      int64  \n",
      " 14  HYBAS_L12     int64  \n",
      " 15  Shape_Length  float64\n",
      "dtypes: float64(7), int64(9)\n",
      "memory usage: 1.0 GB\n",
      "None\n"
     ]
    }
   ],
   "source": [
    "# Get information about the DataFrame, including data types and non-null counts\n",
    "print(\"\\nData Info:\")\n",
    "print(rivers.info())"
   ]
  },
  {
   "cell_type": "code",
   "execution_count": 4,
   "id": "7f8423e1",
   "metadata": {},
   "outputs": [
    {
     "name": "stdout",
     "output_type": "stream",
     "text": [
      "\n",
      "Data Info:\n",
      "<class 'pandas.core.frame.DataFrame'>\n",
      "RangeIndex: 58502 entries, 0 to 58501\n",
      "Data columns (total 25 columns):\n",
      " #   Column      Non-Null Count  Dtype  \n",
      "---  ------      --------------  -----  \n",
      " 0   WASTE_ID    58502 non-null  int64  \n",
      " 1   SOURCE      58502 non-null  int64  \n",
      " 2   ORG_ID      58502 non-null  int64  \n",
      " 3   WWTP_NAME   53215 non-null  object \n",
      " 4   COUNTRY     58502 non-null  object \n",
      " 5   CNTRY_ISO   58502 non-null  object \n",
      " 6   LAT_WWTP    58502 non-null  float64\n",
      " 7   LON_WWTP    58502 non-null  float64\n",
      " 8   QUAL_LOC    58502 non-null  int64  \n",
      " 9   LAT_OUT     58502 non-null  float64\n",
      " 10  LON_OUT     58502 non-null  float64\n",
      " 11  STATUS      58502 non-null  object \n",
      " 12  POP_SERVED  58502 non-null  int64  \n",
      " 13  QUAL_POP    58502 non-null  int64  \n",
      " 14  WASTE_DIS   58502 non-null  float64\n",
      " 15  QUAL_WASTE  58502 non-null  int64  \n",
      " 16  LEVEL       58502 non-null  object \n",
      " 17  QUAL_LEVEL  58502 non-null  int64  \n",
      " 18  DF          47302 non-null  float64\n",
      " 19  HYRIV_ID    58123 non-null  float64\n",
      " 20  RIVER_DIS   47951 non-null  float64\n",
      " 21  COAST_10KM  58502 non-null  int64  \n",
      " 22  COAST_50KM  58502 non-null  int64  \n",
      " 23  DESIGN_CAP  42667 non-null  float64\n",
      " 24  QUAL_CAP    58502 non-null  int64  \n",
      "dtypes: float64(9), int64(11), object(5)\n",
      "memory usage: 11.2+ MB\n",
      "None\n"
     ]
    }
   ],
   "source": [
    "# Get information about the DataFrame, including data types and non-null counts\n",
    "print(\"\\nData Info:\")\n",
    "print(df.info())"
   ]
  },
  {
   "cell_type": "code",
   "execution_count": 5,
   "id": "5f96883e",
   "metadata": {},
   "outputs": [
    {
     "name": "stdout",
     "output_type": "stream",
     "text": [
      "First few rows:\n"
     ]
    },
    {
     "data": {
      "text/html": [
       "<div>\n",
       "<style scoped>\n",
       "    .dataframe tbody tr th:only-of-type {\n",
       "        vertical-align: middle;\n",
       "    }\n",
       "\n",
       "    .dataframe tbody tr th {\n",
       "        vertical-align: top;\n",
       "    }\n",
       "\n",
       "    .dataframe thead th {\n",
       "        text-align: right;\n",
       "    }\n",
       "</style>\n",
       "<table border=\"1\" class=\"dataframe\">\n",
       "  <thead>\n",
       "    <tr style=\"text-align: right;\">\n",
       "      <th></th>\n",
       "      <th>WASTE_ID</th>\n",
       "      <th>SOURCE</th>\n",
       "      <th>ORG_ID</th>\n",
       "      <th>WWTP_NAME</th>\n",
       "      <th>COUNTRY</th>\n",
       "      <th>CNTRY_ISO</th>\n",
       "      <th>LAT_WWTP</th>\n",
       "      <th>LON_WWTP</th>\n",
       "      <th>QUAL_LOC</th>\n",
       "      <th>LAT_OUT</th>\n",
       "      <th>LON_OUT</th>\n",
       "      <th>STATUS</th>\n",
       "      <th>POP_SERVED</th>\n",
       "      <th>QUAL_POP</th>\n",
       "      <th>WASTE_DIS</th>\n",
       "      <th>QUAL_WASTE</th>\n",
       "      <th>LEVEL</th>\n",
       "      <th>QUAL_LEVEL</th>\n",
       "      <th>DF</th>\n",
       "      <th>HYRIV_ID</th>\n",
       "      <th>RIVER_DIS</th>\n",
       "      <th>COAST_10KM</th>\n",
       "      <th>COAST_50KM</th>\n",
       "      <th>DESIGN_CAP</th>\n",
       "      <th>QUAL_CAP</th>\n",
       "    </tr>\n",
       "  </thead>\n",
       "  <tbody>\n",
       "    <tr>\n",
       "      <th>0</th>\n",
       "      <td>1</td>\n",
       "      <td>1</td>\n",
       "      <td>1140441</td>\n",
       "      <td>Akmenes aglomeracija</td>\n",
       "      <td>Lithuania</td>\n",
       "      <td>LTU</td>\n",
       "      <td>56.247</td>\n",
       "      <td>22.726</td>\n",
       "      <td>2</td>\n",
       "      <td>56.223</td>\n",
       "      <td>22.627</td>\n",
       "      <td>Not Reported</td>\n",
       "      <td>1060</td>\n",
       "      <td>2</td>\n",
       "      <td>148.213</td>\n",
       "      <td>4</td>\n",
       "      <td>Advanced</td>\n",
       "      <td>1</td>\n",
       "      <td>2421.974</td>\n",
       "      <td>20228874.0</td>\n",
       "      <td>4.153</td>\n",
       "      <td>0</td>\n",
       "      <td>0</td>\n",
       "      <td>4600.0</td>\n",
       "      <td>2</td>\n",
       "    </tr>\n",
       "    <tr>\n",
       "      <th>1</th>\n",
       "      <td>2</td>\n",
       "      <td>1</td>\n",
       "      <td>1140443</td>\n",
       "      <td>Alytaus m aglomeracija</td>\n",
       "      <td>Lithuania</td>\n",
       "      <td>LTU</td>\n",
       "      <td>54.432</td>\n",
       "      <td>24.056</td>\n",
       "      <td>2</td>\n",
       "      <td>54.519</td>\n",
       "      <td>24.098</td>\n",
       "      <td>Not Reported</td>\n",
       "      <td>87900</td>\n",
       "      <td>2</td>\n",
       "      <td>8797.904</td>\n",
       "      <td>1</td>\n",
       "      <td>Advanced</td>\n",
       "      <td>1</td>\n",
       "      <td>2534.527</td>\n",
       "      <td>20261585.0</td>\n",
       "      <td>257.983</td>\n",
       "      <td>0</td>\n",
       "      <td>0</td>\n",
       "      <td>220000.0</td>\n",
       "      <td>2</td>\n",
       "    </tr>\n",
       "    <tr>\n",
       "      <th>2</th>\n",
       "      <td>3</td>\n",
       "      <td>1</td>\n",
       "      <td>1140445</td>\n",
       "      <td>Anyksciu aglomeracija</td>\n",
       "      <td>Lithuania</td>\n",
       "      <td>LTU</td>\n",
       "      <td>55.509</td>\n",
       "      <td>25.073</td>\n",
       "      <td>2</td>\n",
       "      <td>55.452</td>\n",
       "      <td>25.006</td>\n",
       "      <td>Not Reported</td>\n",
       "      <td>12400</td>\n",
       "      <td>2</td>\n",
       "      <td>1959.285</td>\n",
       "      <td>1</td>\n",
       "      <td>Advanced</td>\n",
       "      <td>1</td>\n",
       "      <td>1367.809</td>\n",
       "      <td>20243105.0</td>\n",
       "      <td>30.995</td>\n",
       "      <td>0</td>\n",
       "      <td>0</td>\n",
       "      <td>33000.0</td>\n",
       "      <td>2</td>\n",
       "    </tr>\n",
       "    <tr>\n",
       "      <th>3</th>\n",
       "      <td>4</td>\n",
       "      <td>1</td>\n",
       "      <td>1140447</td>\n",
       "      <td>Ariogalos aglomeracija</td>\n",
       "      <td>Lithuania</td>\n",
       "      <td>LTU</td>\n",
       "      <td>55.252</td>\n",
       "      <td>23.484</td>\n",
       "      <td>2</td>\n",
       "      <td>55.210</td>\n",
       "      <td>23.510</td>\n",
       "      <td>Not Reported</td>\n",
       "      <td>2500</td>\n",
       "      <td>2</td>\n",
       "      <td>578.482</td>\n",
       "      <td>1</td>\n",
       "      <td>Secondary</td>\n",
       "      <td>1</td>\n",
       "      <td>2061.969</td>\n",
       "      <td>20247446.0</td>\n",
       "      <td>13.799</td>\n",
       "      <td>0</td>\n",
       "      <td>0</td>\n",
       "      <td>4357.0</td>\n",
       "      <td>2</td>\n",
       "    </tr>\n",
       "    <tr>\n",
       "      <th>4</th>\n",
       "      <td>5</td>\n",
       "      <td>1</td>\n",
       "      <td>1140449</td>\n",
       "      <td>Baisogalos aglomeracija</td>\n",
       "      <td>Lithuania</td>\n",
       "      <td>LTU</td>\n",
       "      <td>55.644</td>\n",
       "      <td>23.741</td>\n",
       "      <td>2</td>\n",
       "      <td>55.681</td>\n",
       "      <td>23.835</td>\n",
       "      <td>Not Reported</td>\n",
       "      <td>1200</td>\n",
       "      <td>2</td>\n",
       "      <td>167.788</td>\n",
       "      <td>4</td>\n",
       "      <td>Secondary</td>\n",
       "      <td>1</td>\n",
       "      <td>209.549</td>\n",
       "      <td>20239330.0</td>\n",
       "      <td>0.405</td>\n",
       "      <td>0</td>\n",
       "      <td>0</td>\n",
       "      <td>1490.0</td>\n",
       "      <td>2</td>\n",
       "    </tr>\n",
       "  </tbody>\n",
       "</table>\n",
       "</div>"
      ],
      "text/plain": [
       "   WASTE_ID  SOURCE   ORG_ID                WWTP_NAME    COUNTRY CNTRY_ISO  \\\n",
       "0         1       1  1140441     Akmenes aglomeracija  Lithuania       LTU   \n",
       "1         2       1  1140443   Alytaus m aglomeracija  Lithuania       LTU   \n",
       "2         3       1  1140445    Anyksciu aglomeracija  Lithuania       LTU   \n",
       "3         4       1  1140447   Ariogalos aglomeracija  Lithuania       LTU   \n",
       "4         5       1  1140449  Baisogalos aglomeracija  Lithuania       LTU   \n",
       "\n",
       "   LAT_WWTP  LON_WWTP  QUAL_LOC  LAT_OUT  LON_OUT        STATUS  POP_SERVED  \\\n",
       "0    56.247    22.726         2   56.223   22.627  Not Reported        1060   \n",
       "1    54.432    24.056         2   54.519   24.098  Not Reported       87900   \n",
       "2    55.509    25.073         2   55.452   25.006  Not Reported       12400   \n",
       "3    55.252    23.484         2   55.210   23.510  Not Reported        2500   \n",
       "4    55.644    23.741         2   55.681   23.835  Not Reported        1200   \n",
       "\n",
       "   QUAL_POP  WASTE_DIS  QUAL_WASTE      LEVEL  QUAL_LEVEL        DF  \\\n",
       "0         2    148.213           4   Advanced           1  2421.974   \n",
       "1         2   8797.904           1   Advanced           1  2534.527   \n",
       "2         2   1959.285           1   Advanced           1  1367.809   \n",
       "3         2    578.482           1  Secondary           1  2061.969   \n",
       "4         2    167.788           4  Secondary           1   209.549   \n",
       "\n",
       "     HYRIV_ID  RIVER_DIS  COAST_10KM  COAST_50KM  DESIGN_CAP  QUAL_CAP  \n",
       "0  20228874.0      4.153           0           0      4600.0         2  \n",
       "1  20261585.0    257.983           0           0    220000.0         2  \n",
       "2  20243105.0     30.995           0           0     33000.0         2  \n",
       "3  20247446.0     13.799           0           0      4357.0         2  \n",
       "4  20239330.0      0.405           0           0      1490.0         2  "
      ]
     },
     "execution_count": 5,
     "metadata": {},
     "output_type": "execute_result"
    }
   ],
   "source": [
    "# Display the first few rows of the DataFrame\n",
    "print(\"First few rows:\")\n",
    "df.head()"
   ]
  },
  {
   "cell_type": "markdown",
   "id": "5d5b57fe",
   "metadata": {},
   "source": [
    "<a id='exploratory-data-analysis'></a>\n",
    "<font size=\"+2\" color='#053c96'><b> Exploratory Data Analysis</b></font>  \n",
    "[back to top](#table-of-contents)"
   ]
  },
  {
   "cell_type": "markdown",
   "id": "613915dc",
   "metadata": {},
   "source": [
    "<a id='data-exploration'></a>\n",
    "<font size=\"+0\" color='green'><b> Data Exploration</b></font>  "
   ]
  },
  {
   "cell_type": "code",
   "execution_count": 11,
   "id": "228a4111",
   "metadata": {},
   "outputs": [
    {
     "name": "stdout",
     "output_type": "stream",
     "text": [
      "\n",
      "Number of Unique Values:\n",
      "WASTE_ID      58502\n",
      "SOURCE           12\n",
      "ORG_ID        47496\n",
      "WWTP_NAME     49260\n",
      "COUNTRY         188\n",
      "CNTRY_ISO       180\n",
      "LAT_WWTP      31311\n",
      "LON_WWTP      44467\n",
      "QUAL_LOC          4\n",
      "LAT_OUT       13507\n",
      "LON_OUT       24606\n",
      "STATUS            9\n",
      "POP_SERVED    22602\n",
      "QUAL_POP          4\n",
      "WASTE_DIS     33782\n",
      "QUAL_WASTE        4\n",
      "LEVEL             3\n",
      "QUAL_LEVEL        2\n",
      "DF            45199\n",
      "HYRIV_ID      42821\n",
      "RIVER_DIS     22017\n",
      "COAST_10KM        2\n",
      "COAST_50KM        2\n",
      "DESIGN_CAP     7328\n",
      "QUAL_CAP          3\n",
      "dtype: int64\n"
     ]
    }
   ],
   "source": [
    "# Check the number of unique values in each column\n",
    "print(\"\\nNumber of Unique Values:\")\n",
    "print(df.nunique())"
   ]
  },
  {
   "cell_type": "code",
   "execution_count": 12,
   "id": "6829a08a",
   "metadata": {},
   "outputs": [
    {
     "name": "stdout",
     "output_type": "stream",
     "text": [
      "\n",
      "Missing Values:\n",
      "WASTE_ID          0\n",
      "SOURCE            0\n",
      "ORG_ID            0\n",
      "WWTP_NAME      5287\n",
      "COUNTRY           0\n",
      "CNTRY_ISO         0\n",
      "LAT_WWTP          0\n",
      "LON_WWTP          0\n",
      "QUAL_LOC          0\n",
      "LAT_OUT           0\n",
      "LON_OUT           0\n",
      "STATUS            0\n",
      "POP_SERVED        0\n",
      "QUAL_POP          0\n",
      "WASTE_DIS         0\n",
      "QUAL_WASTE        0\n",
      "LEVEL             0\n",
      "QUAL_LEVEL        0\n",
      "DF            11200\n",
      "HYRIV_ID        379\n",
      "RIVER_DIS     10551\n",
      "COAST_10KM        0\n",
      "COAST_50KM        0\n",
      "DESIGN_CAP    15835\n",
      "QUAL_CAP          0\n",
      "dtype: int64\n"
     ]
    }
   ],
   "source": [
    "# Check for any missing values in the DataFrame\n",
    "print(\"\\nMissing Values:\")\n",
    "print(df.isnull().sum())"
   ]
  },
  {
   "cell_type": "code",
   "execution_count": null,
   "id": "30a18e97",
   "metadata": {},
   "outputs": [],
   "source": []
  },
  {
   "cell_type": "code",
   "execution_count": null,
   "id": "1eb8da97",
   "metadata": {},
   "outputs": [],
   "source": []
  },
  {
   "cell_type": "code",
   "execution_count": null,
   "id": "69541718",
   "metadata": {},
   "outputs": [],
   "source": []
  },
  {
   "cell_type": "code",
   "execution_count": null,
   "id": "c5f0c7a7",
   "metadata": {},
   "outputs": [],
   "source": []
  },
  {
   "cell_type": "code",
   "execution_count": null,
   "id": "e8cfcfb4",
   "metadata": {},
   "outputs": [],
   "source": []
  },
  {
   "cell_type": "markdown",
   "id": "fab1d39c",
   "metadata": {},
   "source": [
    "<a id='data-visualization'></a>\n",
    "<font size=\"+0\" color='green'><b> Data Visualization</b></font>  "
   ]
  },
  {
   "cell_type": "markdown",
   "id": "a80e01e0",
   "metadata": {},
   "source": [
    "<a id='summary-statistics'></a>\n",
    "<font size=\"+0\" color='green'><b> Summary Statistics</b></font>  "
   ]
  },
  {
   "cell_type": "markdown",
   "id": "2377a37f",
   "metadata": {},
   "source": [
    "<a id='feature-correlation'></a>\n",
    "<font size=\"+0\" color='green'><b> Feature Correlation</b></font>  "
   ]
  },
  {
   "cell_type": "markdown",
   "id": "98e0bd7c",
   "metadata": {},
   "source": [
    "<a id='data-preparation'></a>\n",
    "<font size=\"+2\" color='#053c96'><b> Data Preparation</b></font>  \n",
    "[back to top](#table-of-contents)"
   ]
  },
  {
   "cell_type": "markdown",
   "id": "c77fdda0",
   "metadata": {},
   "source": [
    "<font size=\"+0\" color='green'><b> Data CLeaning</b></font>  "
   ]
  },
  {
   "cell_type": "markdown",
   "id": "9649a732",
   "metadata": {},
   "source": [
    "<font size=\"+0\" color='green'><b> Handling Imbalanced Classes</b></font>  "
   ]
  },
  {
   "cell_type": "markdown",
   "id": "502405d3",
   "metadata": {},
   "source": [
    "<font size=\"+0\" color='green'><b> Feature Engineering</b></font>  "
   ]
  },
  {
   "cell_type": "markdown",
   "id": "74fb2098",
   "metadata": {},
   "source": [
    "<font size=\"+0\" color='green'><b> Feature Selection</b></font>  "
   ]
  },
  {
   "cell_type": "markdown",
   "id": "36f53cc7",
   "metadata": {},
   "source": [
    "<font size=\"+0\" color='green'><b> Data Transformation</b></font>  "
   ]
  },
  {
   "cell_type": "markdown",
   "id": "b23f4664",
   "metadata": {},
   "source": [
    "<font size=\"+0\" color='green'><b> Data Splitting</b></font>  "
   ]
  },
  {
   "cell_type": "markdown",
   "id": "9bcb7bb7",
   "metadata": {},
   "source": [
    "<a id='model-development'></a>\n",
    "\n",
    "<font size=\"+2\" color='#053c96'><b> Model Development</b></font>  \n",
    "[back to top](#table-of-contents)"
   ]
  },
  {
   "cell_type": "markdown",
   "id": "6b199dca",
   "metadata": {},
   "source": [
    "<font size=\"+0\" color='green'><b> Baseline Model</b></font>  "
   ]
  },
  {
   "cell_type": "markdown",
   "id": "97d63bf1",
   "metadata": {},
   "source": [
    "<font size=\"+0\" color='green'><b> Model Selection</b></font>  "
   ]
  },
  {
   "cell_type": "markdown",
   "id": "d6bd781a",
   "metadata": {},
   "source": [
    "<font size=\"+0\" color='green'><b> Model Training</b></font>  "
   ]
  },
  {
   "cell_type": "markdown",
   "id": "f908bff1",
   "metadata": {},
   "source": [
    "<font size=\"+0\" color='green'><b> Hyperparameter Tuning</b></font>  "
   ]
  },
  {
   "cell_type": "markdown",
   "id": "81842569",
   "metadata": {},
   "source": [
    "<a id='model-evaluation'></a>\n",
    "\n",
    "<font size=\"+2\" color='#053c96'><b> Model Evaluation</b></font>  \n",
    "[back to top](#table-of-contents)"
   ]
  },
  {
   "cell_type": "markdown",
   "id": "e76fec5a",
   "metadata": {},
   "source": [
    "<font size=\"+0\" color='green'><b> Performance Metrics</b></font>  "
   ]
  },
  {
   "cell_type": "markdown",
   "id": "49d85512",
   "metadata": {},
   "source": [
    "<font size=\"+0\" color='green'><b> Confusion Matrix</b></font>  "
   ]
  },
  {
   "cell_type": "markdown",
   "id": "95e03cd8",
   "metadata": {},
   "source": [
    "<font size=\"+0\" color='green'><b> ROC Curve</b></font>  "
   ]
  },
  {
   "cell_type": "markdown",
   "id": "108e3388",
   "metadata": {},
   "source": [
    "<font size=\"+0\" color='green'><b> Precision-Recall Curve</b></font>   "
   ]
  },
  {
   "cell_type": "markdown",
   "id": "ca715100",
   "metadata": {},
   "source": [
    "<font size=\"+0\" color='green'><b> Cross-Validation</b></font>   "
   ]
  },
  {
   "cell_type": "markdown",
   "id": "9ee1175c",
   "metadata": {},
   "source": [
    "<font size=\"+0\" color='green'><b> Bias-Variance Tradeoff</b></font>   "
   ]
  },
  {
   "cell_type": "markdown",
   "id": "3e6f9884",
   "metadata": {},
   "source": [
    "<a id='model-interpretation'></a>\n",
    "<font size=\"+2\" color='#053c96'><b> Model Interpretation</b></font>  \n",
    "[back to top](#table-of-contents)"
   ]
  },
  {
   "cell_type": "markdown",
   "id": "42cf87ec",
   "metadata": {},
   "source": [
    "<font size=\"+0\" color='green'><b> Feature Importance</b></font>   "
   ]
  },
  {
   "cell_type": "markdown",
   "id": "5981f3c1",
   "metadata": {},
   "source": [
    "<font size=\"+0\" color='green'><b> Model Explanation Techniques</b></font>   "
   ]
  },
  {
   "cell_type": "markdown",
   "id": "1da4c88b",
   "metadata": {},
   "source": [
    "<font size=\"+0\" color='green'><b> Business Impact Analysis</b></font>   "
   ]
  },
  {
   "cell_type": "markdown",
   "id": "9c89320c",
   "metadata": {},
   "source": [
    "<a id='conclusion'></a>\n",
    "\n",
    "<font size=\"+2\" color='#053c96'><b> Conclusion</b></font>  \n",
    "[back to top](#table-of-contents)"
   ]
  },
  {
   "cell_type": "markdown",
   "id": "a229a94a",
   "metadata": {},
   "source": [
    "<font size=\"+0\" color='green'><b> Summary of Findings</b></font>   "
   ]
  },
  {
   "cell_type": "markdown",
   "id": "ecd40bb0",
   "metadata": {},
   "source": [
    "<font size=\"+0\" color='green'><b> Recommendations</b></font>   "
   ]
  },
  {
   "cell_type": "markdown",
   "id": "3ecf1484",
   "metadata": {},
   "source": [
    "<font size=\"+0\" color='green'><b> Limitations</b></font>   "
   ]
  },
  {
   "cell_type": "markdown",
   "id": "622a91ec",
   "metadata": {},
   "source": [
    "<font size=\"+0\" color='green'><b> Future Work</b></font>   "
   ]
  },
  {
   "cell_type": "markdown",
   "id": "ad32603c",
   "metadata": {},
   "source": [
    "<font size=\"+0\" color='green'><b> Final Thoughts</b></font>   "
   ]
  },
  {
   "cell_type": "markdown",
   "id": "a1d54afe",
   "metadata": {},
   "source": [
    "<a id='references'></a>\n",
    "\n",
    "<font size=\"+2\" color='#053c96'><b> References</b></font>  \n",
    "[back to top](#table-of-contents)"
   ]
  },
  {
   "cell_type": "markdown",
   "id": "d1244019",
   "metadata": {},
   "source": []
  }
 ],
 "metadata": {
  "kernelspec": {
   "display_name": "Python 3 (ipykernel)",
   "language": "python",
   "name": "python3"
  },
  "language_info": {
   "codemirror_mode": {
    "name": "ipython",
    "version": 3
   },
   "file_extension": ".py",
   "mimetype": "text/x-python",
   "name": "python",
   "nbconvert_exporter": "python",
   "pygments_lexer": "ipython3",
   "version": "3.10.9"
  }
 },
 "nbformat": 4,
 "nbformat_minor": 5
}
