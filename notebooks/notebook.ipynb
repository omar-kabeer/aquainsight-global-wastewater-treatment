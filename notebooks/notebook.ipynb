{
 "cells": [
  {
   "cell_type": "markdown",
   "id": "8c1bcd0e",
   "metadata": {},
   "source": [
    "<h2><center> AquaInsight: Exploring Global Wastewater Treatment Patterns</h2></center>\n",
    "<figure>\n",
    "<center><img src =\"https://th.bing.com/th/id/OIP.wuNPTx42LyVnFMqRofDVPQHaGB?pid=ImgDet&rs=1\" width = \"750\" height = '500' alt=\"unsplash.com\"/>"
   ]
  },
  {
   "cell_type": "markdown",
   "id": "348f1af0",
   "metadata": {},
   "source": [
    "## Author: Umar Kabir\n",
    "\n",
    "Date: [July, 2023]"
   ]
  },
  {
   "cell_type": "markdown",
   "id": "2ad33f76",
   "metadata": {},
   "source": [
    "<a id='table-of-contents'></a>\n",
    "# Table of Contents\n",
    "\n",
    "1. [Introduction](#introduction)\n",
    "    - Motivation\n",
    "    - Problem Statement\n",
    "    - Objective\n",
    "    - Data Source\n",
    "    - Importing Dependencies  \n",
    "\n",
    "\n",
    "2. [Data](#2-data)\n",
    "    - Data Loading\n",
    "    - Dataset Overview\n",
    "\n",
    "\n",
    "3. [Exploratory Data Analysis](#exploratory-data-analysis)\n",
    "    - Descriptive Statistics\n",
    "    - Data Visualization\n",
    "    - Correlation Analysis\n",
    "    - Outlier Detection\n",
    "\n",
    "\n",
    "4. [Data Preparation](#data-preparation)\n",
    "    - Data Cleaning\n",
    "    - Handling Missing Values\n",
    "    - Handling Imbalanced Classes\n",
    "    - Feature Selection\n",
    "    - Feature Engineering\n",
    "    - Data Transformation\n",
    "    - Data Splitting\n",
    "\n",
    "\n",
    "5. [Model Development](#model-development)\n",
    "    - Baseline Model\n",
    "    - Model Selection\n",
    "    - Model Training\n",
    "    - Hyperparameter Tuning\n",
    "\n",
    "\n",
    "6. [Model Evaluation](#model-evaluation)\n",
    "    - Performance Metrics\n",
    "    - Confusion Matrix\n",
    "    - ROC Curve\n",
    "    - Precision-Recall Curve\n",
    "    - Cross-Validation\n",
    "    - Bias-Variance Tradeoff\n",
    "\n",
    "\n",
    "7. [Model Interpretation](#model-interpretation)\n",
    "    - Feature Importance\n",
    "    - Model Explanation Techniques\n",
    "    - Business Impact Analysis\n",
    "\n",
    "\n",
    "8. [Conclusion](#conclusion)\n",
    "    - Summary of Findings\n",
    "    - Recommendations\n",
    "    - Limitations\n",
    "    - Future Work\n",
    "    - Final Thoughts\n",
    "\n",
    "\n",
    "9. [References](#references)"
   ]
  },
  {
   "cell_type": "markdown",
   "id": "cb7bc0f0",
   "metadata": {},
   "source": [
    "<a id='introduction'></a>\n",
    "<font size=\"+2\" color='#053c96'><b> Introduction</b></font>  \n",
    "[back to top](#table-of-contents)  "
   ]
  },
  {
   "cell_type": "markdown",
   "id": "b95dbff8",
   "metadata": {},
   "source": [
    "<font size=\"+0\" color='green'><b> Motivation</b></font>  \n"
   ]
  },
  {
   "cell_type": "markdown",
   "id": "74cb2b87",
   "metadata": {},
   "source": [
    "<font size=\"+0\" color='green'><b> Problem Statement</b></font>  \n",
    "\n"
   ]
  },
  {
   "cell_type": "markdown",
   "id": "da06c58d",
   "metadata": {},
   "source": [
    "<font size=\"+0\" color='green'><b> Objectives</b></font>  \n"
   ]
  },
  {
   "cell_type": "markdown",
   "id": "46686294",
   "metadata": {},
   "source": [
    "<font size=\"+0\" color='green'><b> Data Source</b></font>  \n"
   ]
  },
  {
   "cell_type": "markdown",
   "id": "bafda93c",
   "metadata": {},
   "source": [
    "<font size=\"+0\" color='green'><b> Importing Dependencies</b></font>  "
   ]
  },
  {
   "cell_type": "code",
   "execution_count": 2,
   "id": "1ca49672",
   "metadata": {},
   "outputs": [],
   "source": [
    "import sys\n",
    "# Insert the parent path relative to this notebook so we can import from the src folder.\n",
    "sys.path.insert(0, \"..\")\n",
    "\n",
    "from src.dependencies import *"
   ]
  },
  {
   "cell_type": "markdown",
   "id": "7193821a",
   "metadata": {},
   "source": [
    "<a id='#data'></a>\n",
    "<font size=\"+2\" color='#053c96'><b> Data</b></font>  \n",
    "[back to top](#table-of-contents)"
   ]
  },
  {
   "cell_type": "markdown",
   "id": "5adb7564",
   "metadata": {},
   "source": [
    "<font size=\"+0\" color='green'><b> Data Loading</b></font>  "
   ]
  },
  {
   "cell_type": "code",
   "execution_count": 5,
   "id": "ded840cf",
   "metadata": {},
   "outputs": [],
   "source": [
    "df = pd.read_csv('../data/HydroWASTE_v10.csv', encoding='ISO-8859-1')"
   ]
  },
  {
   "cell_type": "markdown",
   "id": "00d03d0b",
   "metadata": {},
   "source": [
    "<font size=\"+0\" color='green'><b> Data Overview</b></font>  "
   ]
  },
  {
   "cell_type": "code",
   "execution_count": 6,
   "id": "268bce94",
   "metadata": {},
   "outputs": [
    {
     "data": {
      "text/plain": [
       "(58502, 25)"
      ]
     },
     "execution_count": 6,
     "metadata": {},
     "output_type": "execute_result"
    }
   ],
   "source": [
    "df.shape"
   ]
  },
  {
   "cell_type": "code",
   "execution_count": 10,
   "id": "7f8423e1",
   "metadata": {},
   "outputs": [
    {
     "name": "stdout",
     "output_type": "stream",
     "text": [
      "\n",
      "Data Info:\n",
      "<class 'pandas.core.frame.DataFrame'>\n",
      "RangeIndex: 58502 entries, 0 to 58501\n",
      "Data columns (total 25 columns):\n",
      " #   Column      Non-Null Count  Dtype  \n",
      "---  ------      --------------  -----  \n",
      " 0   WASTE_ID    58502 non-null  int64  \n",
      " 1   SOURCE      58502 non-null  int64  \n",
      " 2   ORG_ID      58502 non-null  int64  \n",
      " 3   WWTP_NAME   53215 non-null  object \n",
      " 4   COUNTRY     58502 non-null  object \n",
      " 5   CNTRY_ISO   58502 non-null  object \n",
      " 6   LAT_WWTP    58502 non-null  float64\n",
      " 7   LON_WWTP    58502 non-null  float64\n",
      " 8   QUAL_LOC    58502 non-null  int64  \n",
      " 9   LAT_OUT     58502 non-null  float64\n",
      " 10  LON_OUT     58502 non-null  float64\n",
      " 11  STATUS      58502 non-null  object \n",
      " 12  POP_SERVED  58502 non-null  int64  \n",
      " 13  QUAL_POP    58502 non-null  int64  \n",
      " 14  WASTE_DIS   58502 non-null  float64\n",
      " 15  QUAL_WASTE  58502 non-null  int64  \n",
      " 16  LEVEL       58502 non-null  object \n",
      " 17  QUAL_LEVEL  58502 non-null  int64  \n",
      " 18  DF          47302 non-null  float64\n",
      " 19  HYRIV_ID    58123 non-null  float64\n",
      " 20  RIVER_DIS   47951 non-null  float64\n",
      " 21  COAST_10KM  58502 non-null  int64  \n",
      " 22  COAST_50KM  58502 non-null  int64  \n",
      " 23  DESIGN_CAP  42667 non-null  float64\n",
      " 24  QUAL_CAP    58502 non-null  int64  \n",
      "dtypes: float64(9), int64(11), object(5)\n",
      "memory usage: 11.2+ MB\n",
      "None\n"
     ]
    }
   ],
   "source": [
    "# Get information about the DataFrame, including data types and non-null counts\n",
    "print(\"\\nData Info:\")\n",
    "print(df.info())"
   ]
  },
  {
   "cell_type": "code",
   "execution_count": 9,
   "id": "5f96883e",
   "metadata": {},
   "outputs": [
    {
     "name": "stdout",
     "output_type": "stream",
     "text": [
      "First few rows:\n"
     ]
    },
    {
     "data": {
      "text/html": [
       "<div>\n",
       "<style scoped>\n",
       "    .dataframe tbody tr th:only-of-type {\n",
       "        vertical-align: middle;\n",
       "    }\n",
       "\n",
       "    .dataframe tbody tr th {\n",
       "        vertical-align: top;\n",
       "    }\n",
       "\n",
       "    .dataframe thead th {\n",
       "        text-align: right;\n",
       "    }\n",
       "</style>\n",
       "<table border=\"1\" class=\"dataframe\">\n",
       "  <thead>\n",
       "    <tr style=\"text-align: right;\">\n",
       "      <th></th>\n",
       "      <th>WASTE_ID</th>\n",
       "      <th>SOURCE</th>\n",
       "      <th>ORG_ID</th>\n",
       "      <th>WWTP_NAME</th>\n",
       "      <th>COUNTRY</th>\n",
       "      <th>CNTRY_ISO</th>\n",
       "      <th>LAT_WWTP</th>\n",
       "      <th>LON_WWTP</th>\n",
       "      <th>QUAL_LOC</th>\n",
       "      <th>LAT_OUT</th>\n",
       "      <th>LON_OUT</th>\n",
       "      <th>STATUS</th>\n",
       "      <th>POP_SERVED</th>\n",
       "      <th>QUAL_POP</th>\n",
       "      <th>WASTE_DIS</th>\n",
       "      <th>QUAL_WASTE</th>\n",
       "      <th>LEVEL</th>\n",
       "      <th>QUAL_LEVEL</th>\n",
       "      <th>DF</th>\n",
       "      <th>HYRIV_ID</th>\n",
       "      <th>RIVER_DIS</th>\n",
       "      <th>COAST_10KM</th>\n",
       "      <th>COAST_50KM</th>\n",
       "      <th>DESIGN_CAP</th>\n",
       "      <th>QUAL_CAP</th>\n",
       "    </tr>\n",
       "  </thead>\n",
       "  <tbody>\n",
       "    <tr>\n",
       "      <th>0</th>\n",
       "      <td>1</td>\n",
       "      <td>1</td>\n",
       "      <td>1140441</td>\n",
       "      <td>Akmenes aglomeracija</td>\n",
       "      <td>Lithuania</td>\n",
       "      <td>LTU</td>\n",
       "      <td>56.247</td>\n",
       "      <td>22.726</td>\n",
       "      <td>2</td>\n",
       "      <td>56.223</td>\n",
       "      <td>22.627</td>\n",
       "      <td>Not Reported</td>\n",
       "      <td>1060</td>\n",
       "      <td>2</td>\n",
       "      <td>148.213</td>\n",
       "      <td>4</td>\n",
       "      <td>Advanced</td>\n",
       "      <td>1</td>\n",
       "      <td>2421.974</td>\n",
       "      <td>20228874.0</td>\n",
       "      <td>4.153</td>\n",
       "      <td>0</td>\n",
       "      <td>0</td>\n",
       "      <td>4600.0</td>\n",
       "      <td>2</td>\n",
       "    </tr>\n",
       "    <tr>\n",
       "      <th>1</th>\n",
       "      <td>2</td>\n",
       "      <td>1</td>\n",
       "      <td>1140443</td>\n",
       "      <td>Alytaus m aglomeracija</td>\n",
       "      <td>Lithuania</td>\n",
       "      <td>LTU</td>\n",
       "      <td>54.432</td>\n",
       "      <td>24.056</td>\n",
       "      <td>2</td>\n",
       "      <td>54.519</td>\n",
       "      <td>24.098</td>\n",
       "      <td>Not Reported</td>\n",
       "      <td>87900</td>\n",
       "      <td>2</td>\n",
       "      <td>8797.904</td>\n",
       "      <td>1</td>\n",
       "      <td>Advanced</td>\n",
       "      <td>1</td>\n",
       "      <td>2534.527</td>\n",
       "      <td>20261585.0</td>\n",
       "      <td>257.983</td>\n",
       "      <td>0</td>\n",
       "      <td>0</td>\n",
       "      <td>220000.0</td>\n",
       "      <td>2</td>\n",
       "    </tr>\n",
       "    <tr>\n",
       "      <th>2</th>\n",
       "      <td>3</td>\n",
       "      <td>1</td>\n",
       "      <td>1140445</td>\n",
       "      <td>Anyksciu aglomeracija</td>\n",
       "      <td>Lithuania</td>\n",
       "      <td>LTU</td>\n",
       "      <td>55.509</td>\n",
       "      <td>25.073</td>\n",
       "      <td>2</td>\n",
       "      <td>55.452</td>\n",
       "      <td>25.006</td>\n",
       "      <td>Not Reported</td>\n",
       "      <td>12400</td>\n",
       "      <td>2</td>\n",
       "      <td>1959.285</td>\n",
       "      <td>1</td>\n",
       "      <td>Advanced</td>\n",
       "      <td>1</td>\n",
       "      <td>1367.809</td>\n",
       "      <td>20243105.0</td>\n",
       "      <td>30.995</td>\n",
       "      <td>0</td>\n",
       "      <td>0</td>\n",
       "      <td>33000.0</td>\n",
       "      <td>2</td>\n",
       "    </tr>\n",
       "    <tr>\n",
       "      <th>3</th>\n",
       "      <td>4</td>\n",
       "      <td>1</td>\n",
       "      <td>1140447</td>\n",
       "      <td>Ariogalos aglomeracija</td>\n",
       "      <td>Lithuania</td>\n",
       "      <td>LTU</td>\n",
       "      <td>55.252</td>\n",
       "      <td>23.484</td>\n",
       "      <td>2</td>\n",
       "      <td>55.210</td>\n",
       "      <td>23.510</td>\n",
       "      <td>Not Reported</td>\n",
       "      <td>2500</td>\n",
       "      <td>2</td>\n",
       "      <td>578.482</td>\n",
       "      <td>1</td>\n",
       "      <td>Secondary</td>\n",
       "      <td>1</td>\n",
       "      <td>2061.969</td>\n",
       "      <td>20247446.0</td>\n",
       "      <td>13.799</td>\n",
       "      <td>0</td>\n",
       "      <td>0</td>\n",
       "      <td>4357.0</td>\n",
       "      <td>2</td>\n",
       "    </tr>\n",
       "    <tr>\n",
       "      <th>4</th>\n",
       "      <td>5</td>\n",
       "      <td>1</td>\n",
       "      <td>1140449</td>\n",
       "      <td>Baisogalos aglomeracija</td>\n",
       "      <td>Lithuania</td>\n",
       "      <td>LTU</td>\n",
       "      <td>55.644</td>\n",
       "      <td>23.741</td>\n",
       "      <td>2</td>\n",
       "      <td>55.681</td>\n",
       "      <td>23.835</td>\n",
       "      <td>Not Reported</td>\n",
       "      <td>1200</td>\n",
       "      <td>2</td>\n",
       "      <td>167.788</td>\n",
       "      <td>4</td>\n",
       "      <td>Secondary</td>\n",
       "      <td>1</td>\n",
       "      <td>209.549</td>\n",
       "      <td>20239330.0</td>\n",
       "      <td>0.405</td>\n",
       "      <td>0</td>\n",
       "      <td>0</td>\n",
       "      <td>1490.0</td>\n",
       "      <td>2</td>\n",
       "    </tr>\n",
       "  </tbody>\n",
       "</table>\n",
       "</div>"
      ],
      "text/plain": [
       "   WASTE_ID  SOURCE   ORG_ID                WWTP_NAME    COUNTRY CNTRY_ISO  \\\n",
       "0         1       1  1140441     Akmenes aglomeracija  Lithuania       LTU   \n",
       "1         2       1  1140443   Alytaus m aglomeracija  Lithuania       LTU   \n",
       "2         3       1  1140445    Anyksciu aglomeracija  Lithuania       LTU   \n",
       "3         4       1  1140447   Ariogalos aglomeracija  Lithuania       LTU   \n",
       "4         5       1  1140449  Baisogalos aglomeracija  Lithuania       LTU   \n",
       "\n",
       "   LAT_WWTP  LON_WWTP  QUAL_LOC  LAT_OUT  LON_OUT        STATUS  POP_SERVED  \\\n",
       "0    56.247    22.726         2   56.223   22.627  Not Reported        1060   \n",
       "1    54.432    24.056         2   54.519   24.098  Not Reported       87900   \n",
       "2    55.509    25.073         2   55.452   25.006  Not Reported       12400   \n",
       "3    55.252    23.484         2   55.210   23.510  Not Reported        2500   \n",
       "4    55.644    23.741         2   55.681   23.835  Not Reported        1200   \n",
       "\n",
       "   QUAL_POP  WASTE_DIS  QUAL_WASTE      LEVEL  QUAL_LEVEL        DF  \\\n",
       "0         2    148.213           4   Advanced           1  2421.974   \n",
       "1         2   8797.904           1   Advanced           1  2534.527   \n",
       "2         2   1959.285           1   Advanced           1  1367.809   \n",
       "3         2    578.482           1  Secondary           1  2061.969   \n",
       "4         2    167.788           4  Secondary           1   209.549   \n",
       "\n",
       "     HYRIV_ID  RIVER_DIS  COAST_10KM  COAST_50KM  DESIGN_CAP  QUAL_CAP  \n",
       "0  20228874.0      4.153           0           0      4600.0         2  \n",
       "1  20261585.0    257.983           0           0    220000.0         2  \n",
       "2  20243105.0     30.995           0           0     33000.0         2  \n",
       "3  20247446.0     13.799           0           0      4357.0         2  \n",
       "4  20239330.0      0.405           0           0      1490.0         2  "
      ]
     },
     "execution_count": 9,
     "metadata": {},
     "output_type": "execute_result"
    }
   ],
   "source": [
    "# Display the first few rows of the DataFrame\n",
    "print(\"First few rows:\")\n",
    "df.head()"
   ]
  },
  {
   "cell_type": "markdown",
   "id": "5d5b57fe",
   "metadata": {},
   "source": [
    "<a id='exploratory-data-analysis'></a>\n",
    "<font size=\"+2\" color='#053c96'><b> Exploratory Data Analysis</b></font>  \n",
    "[back to top](#table-of-contents)"
   ]
  },
  {
   "cell_type": "markdown",
   "id": "613915dc",
   "metadata": {},
   "source": [
    "<a id='data-exploration'></a>\n",
    "<font size=\"+0\" color='green'><b> Data Exploration</b></font>  "
   ]
  },
  {
   "cell_type": "code",
   "execution_count": 11,
   "id": "228a4111",
   "metadata": {},
   "outputs": [
    {
     "name": "stdout",
     "output_type": "stream",
     "text": [
      "\n",
      "Number of Unique Values:\n",
      "WASTE_ID      58502\n",
      "SOURCE           12\n",
      "ORG_ID        47496\n",
      "WWTP_NAME     49260\n",
      "COUNTRY         188\n",
      "CNTRY_ISO       180\n",
      "LAT_WWTP      31311\n",
      "LON_WWTP      44467\n",
      "QUAL_LOC          4\n",
      "LAT_OUT       13507\n",
      "LON_OUT       24606\n",
      "STATUS            9\n",
      "POP_SERVED    22602\n",
      "QUAL_POP          4\n",
      "WASTE_DIS     33782\n",
      "QUAL_WASTE        4\n",
      "LEVEL             3\n",
      "QUAL_LEVEL        2\n",
      "DF            45199\n",
      "HYRIV_ID      42821\n",
      "RIVER_DIS     22017\n",
      "COAST_10KM        2\n",
      "COAST_50KM        2\n",
      "DESIGN_CAP     7328\n",
      "QUAL_CAP          3\n",
      "dtype: int64\n"
     ]
    }
   ],
   "source": [
    "# Check the number of unique values in each column\n",
    "print(\"\\nNumber of Unique Values:\")\n",
    "print(df.nunique())"
   ]
  },
  {
   "cell_type": "code",
   "execution_count": 7,
   "id": "5c86a34f",
   "metadata": {},
   "outputs": [
    {
     "data": {
      "text/plain": [
       "0    4314\n",
       "1     110\n",
       "Name: International, dtype: int64"
      ]
     },
     "execution_count": 7,
     "metadata": {},
     "output_type": "execute_result"
    }
   ],
   "source": [
    "df['International'].value_counts()"
   ]
  },
  {
   "cell_type": "code",
   "execution_count": 8,
   "id": "f51dadd3",
   "metadata": {},
   "outputs": [
    {
     "data": {
      "text/plain": [
       "9500    766\n",
       "9147    380\n",
       "9238    355\n",
       "9085    337\n",
       "9773    331\n",
       "9670    268\n",
       "9991    268\n",
       "9254    252\n",
       "9070    226\n",
       "171     215\n",
       "8014    215\n",
       "9003    210\n",
       "9853    192\n",
       "9119    170\n",
       "9130    141\n",
       "9556     86\n",
       "33       12\n",
       "Name: Course, dtype: int64"
      ]
     },
     "execution_count": 8,
     "metadata": {},
     "output_type": "execute_result"
    }
   ],
   "source": [
    "df['Course'].value_counts()"
   ]
  },
  {
   "cell_type": "markdown",
   "id": "fab1d39c",
   "metadata": {},
   "source": [
    "<a id='data-visualization'></a>\n",
    "<font size=\"+0\" color='green'><b> Data Visualization</b></font>  "
   ]
  },
  {
   "cell_type": "markdown",
   "id": "a80e01e0",
   "metadata": {},
   "source": [
    "<a id='summary-statistics'></a>\n",
    "<font size=\"+0\" color='green'><b> Summary Statistics</b></font>  "
   ]
  },
  {
   "cell_type": "markdown",
   "id": "2377a37f",
   "metadata": {},
   "source": [
    "<a id='feature-correlation'></a>\n",
    "<font size=\"+0\" color='green'><b> Feature Correlation</b></font>  "
   ]
  },
  {
   "cell_type": "markdown",
   "id": "98e0bd7c",
   "metadata": {},
   "source": [
    "<a id='data-preparation'></a>\n",
    "<font size=\"+2\" color='#053c96'><b> Data Preparation</b></font>  \n",
    "[back to top](#table-of-contents)"
   ]
  },
  {
   "cell_type": "markdown",
   "id": "c77fdda0",
   "metadata": {},
   "source": [
    "<font size=\"+0\" color='green'><b> Data CLeaning</b></font>  "
   ]
  },
  {
   "cell_type": "markdown",
   "id": "9649a732",
   "metadata": {},
   "source": [
    "<font size=\"+0\" color='green'><b> Handling Imbalanced Classes</b></font>  "
   ]
  },
  {
   "cell_type": "markdown",
   "id": "502405d3",
   "metadata": {},
   "source": [
    "<font size=\"+0\" color='green'><b> Feature Engineering</b></font>  "
   ]
  },
  {
   "cell_type": "markdown",
   "id": "74fb2098",
   "metadata": {},
   "source": [
    "<font size=\"+0\" color='green'><b> Feature Selection</b></font>  "
   ]
  },
  {
   "cell_type": "markdown",
   "id": "36f53cc7",
   "metadata": {},
   "source": [
    "<font size=\"+0\" color='green'><b> Data Transformation</b></font>  "
   ]
  },
  {
   "cell_type": "markdown",
   "id": "b23f4664",
   "metadata": {},
   "source": [
    "<font size=\"+0\" color='green'><b> Data Splitting</b></font>  "
   ]
  },
  {
   "cell_type": "markdown",
   "id": "9bcb7bb7",
   "metadata": {},
   "source": [
    "<a id='model-development'></a>\n",
    "\n",
    "<font size=\"+2\" color='#053c96'><b> Model Development</b></font>  \n",
    "[back to top](#table-of-contents)"
   ]
  },
  {
   "cell_type": "markdown",
   "id": "6b199dca",
   "metadata": {},
   "source": [
    "<font size=\"+0\" color='green'><b> Baseline Model</b></font>  "
   ]
  },
  {
   "cell_type": "markdown",
   "id": "97d63bf1",
   "metadata": {},
   "source": [
    "<font size=\"+0\" color='green'><b> Model Selection</b></font>  "
   ]
  },
  {
   "cell_type": "markdown",
   "id": "d6bd781a",
   "metadata": {},
   "source": [
    "<font size=\"+0\" color='green'><b> Model Training</b></font>  "
   ]
  },
  {
   "cell_type": "markdown",
   "id": "f908bff1",
   "metadata": {},
   "source": [
    "<font size=\"+0\" color='green'><b> Hyperparameter Tuning</b></font>  "
   ]
  },
  {
   "cell_type": "markdown",
   "id": "81842569",
   "metadata": {},
   "source": [
    "<a id='model-evaluation'></a>\n",
    "\n",
    "<font size=\"+2\" color='#053c96'><b> Model Evaluation</b></font>  \n",
    "[back to top](#table-of-contents)"
   ]
  },
  {
   "cell_type": "markdown",
   "id": "e76fec5a",
   "metadata": {},
   "source": [
    "<font size=\"+0\" color='green'><b> Performance Metrics</b></font>  "
   ]
  },
  {
   "cell_type": "markdown",
   "id": "49d85512",
   "metadata": {},
   "source": [
    "<font size=\"+0\" color='green'><b> Confusion Matrix</b></font>  "
   ]
  },
  {
   "cell_type": "markdown",
   "id": "95e03cd8",
   "metadata": {},
   "source": [
    "<font size=\"+0\" color='green'><b> ROC Curve</b></font>  "
   ]
  },
  {
   "cell_type": "markdown",
   "id": "108e3388",
   "metadata": {},
   "source": [
    "<font size=\"+0\" color='green'><b> Precision-Recall Curve</b></font>   "
   ]
  },
  {
   "cell_type": "markdown",
   "id": "ca715100",
   "metadata": {},
   "source": [
    "<font size=\"+0\" color='green'><b> Cross-Validation</b></font>   "
   ]
  },
  {
   "cell_type": "markdown",
   "id": "9ee1175c",
   "metadata": {},
   "source": [
    "<font size=\"+0\" color='green'><b> Bias-Variance Tradeoff</b></font>   "
   ]
  },
  {
   "cell_type": "markdown",
   "id": "3e6f9884",
   "metadata": {},
   "source": [
    "<a id='model-interpretation'></a>\n",
    "<font size=\"+2\" color='#053c96'><b> Model Interpretation</b></font>  \n",
    "[back to top](#table-of-contents)"
   ]
  },
  {
   "cell_type": "markdown",
   "id": "42cf87ec",
   "metadata": {},
   "source": [
    "<font size=\"+0\" color='green'><b> Feature Importance</b></font>   "
   ]
  },
  {
   "cell_type": "markdown",
   "id": "5981f3c1",
   "metadata": {},
   "source": [
    "<font size=\"+0\" color='green'><b> Model Explanation Techniques</b></font>   "
   ]
  },
  {
   "cell_type": "markdown",
   "id": "1da4c88b",
   "metadata": {},
   "source": [
    "<font size=\"+0\" color='green'><b> Business Impact Analysis</b></font>   "
   ]
  },
  {
   "cell_type": "markdown",
   "id": "9c89320c",
   "metadata": {},
   "source": [
    "<a id='conclusion'></a>\n",
    "\n",
    "<font size=\"+2\" color='#053c96'><b> Conclusion</b></font>  \n",
    "[back to top](#table-of-contents)"
   ]
  },
  {
   "cell_type": "markdown",
   "id": "a229a94a",
   "metadata": {},
   "source": [
    "<font size=\"+0\" color='green'><b> Summary of Findings</b></font>   "
   ]
  },
  {
   "cell_type": "markdown",
   "id": "ecd40bb0",
   "metadata": {},
   "source": [
    "<font size=\"+0\" color='green'><b> Recommendations</b></font>   "
   ]
  },
  {
   "cell_type": "markdown",
   "id": "3ecf1484",
   "metadata": {},
   "source": [
    "<font size=\"+0\" color='green'><b> Limitations</b></font>   "
   ]
  },
  {
   "cell_type": "markdown",
   "id": "622a91ec",
   "metadata": {},
   "source": [
    "<font size=\"+0\" color='green'><b> Future Work</b></font>   "
   ]
  },
  {
   "cell_type": "markdown",
   "id": "ad32603c",
   "metadata": {},
   "source": [
    "<font size=\"+0\" color='green'><b> Final Thoughts</b></font>   "
   ]
  },
  {
   "cell_type": "markdown",
   "id": "a1d54afe",
   "metadata": {},
   "source": [
    "<a id='references'></a>\n",
    "\n",
    "<font size=\"+2\" color='#053c96'><b> References</b></font>  \n",
    "[back to top](#table-of-contents)"
   ]
  },
  {
   "cell_type": "markdown",
   "id": "d1244019",
   "metadata": {},
   "source": []
  }
 ],
 "metadata": {
  "kernelspec": {
   "display_name": "Python 3 (ipykernel)",
   "language": "python",
   "name": "python3"
  },
  "language_info": {
   "codemirror_mode": {
    "name": "ipython",
    "version": 3
   },
   "file_extension": ".py",
   "mimetype": "text/x-python",
   "name": "python",
   "nbconvert_exporter": "python",
   "pygments_lexer": "ipython3",
   "version": "3.10.9"
  }
 },
 "nbformat": 4,
 "nbformat_minor": 5
}
